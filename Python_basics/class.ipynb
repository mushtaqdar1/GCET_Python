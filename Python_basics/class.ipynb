{
 "cells": [
  {
   "cell_type": "code",
   "execution_count": null,
   "id": "59cdfe6c",
   "metadata": {},
   "outputs": [],
   "source": []
  },
  {
   "cell_type": "markdown",
   "id": "9223d7a1",
   "metadata": {},
   "source": [
    "###  object-oriented programming in Python—\n",
    "an optional but powerful feature of the language that cuts development time by supporting programming by customization—in depth later in this book. In abstract terms, though, classes define new types\n",
    "of objects that extend the core set, so they merit a passing glance here. Say, for example,\n",
    "that you wish to have a type of object that models employees.\n",
    " ### Although there is no such specific core type in Python, the following user-defined class might fit the bill:\n"
   ]
  },
  {
   "cell_type": "code",
   "execution_count": 4,
   "id": "60c319b1",
   "metadata": {},
   "outputs": [],
   "source": [
    "class Worker:\n",
    "\tdef __init__(self, name, pay):  # Initialize when created\n",
    "\t\tself.name = name  # self is the new object\n",
    "\t\tself.pay = pay\n",
    "\n",
    "\tdef lastName(self):\n",
    "\t\treturn self.name.split()[-1]  # Split string on blanks\n",
    "\n",
    "\tdef giveRaise(self, percent):\n",
    "\t\tself.pay *= (1.0 + percent)  # Update pay in-place"
   ]
  }
 ],
 "metadata": {
  "kernelspec": {
   "display_name": "Python 3",
   "language": "python",
   "name": "python3"
  },
  "language_info": {
   "codemirror_mode": {
    "name": "ipython",
    "version": 3
   },
   "file_extension": ".py",
   "mimetype": "text/x-python",
   "name": "python",
   "nbconvert_exporter": "python",
   "pygments_lexer": "ipython3",
   "version": "3.13.3"
  }
 },
 "nbformat": 4,
 "nbformat_minor": 5
}
