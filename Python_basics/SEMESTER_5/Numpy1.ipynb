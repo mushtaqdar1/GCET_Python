{
 "cells": [
  {
   "cell_type": "markdown",
   "id": "bd0e5c8f",
   "metadata": {},
   "source": [
    "## Numpy Python Library_Examples"
   ]
  },
  {
   "cell_type": "markdown",
   "id": "f842bd90",
   "metadata": {},
   "source": [
    "## NumPy is the fundamental package for N-dimensional arrays, mathematical functions, and numerical computing in Python. "
   ]
  },
  {
   "cell_type": "markdown",
   "id": "a9a99f45",
   "metadata": {},
   "source": [
    "## NumPy is a Python library used for working with arrays.\n",
    "## It also has functions for working in domain of linear algebra, fourier transform, and matrices.\n",
    "## NumPy was created in 2005 by Travis Oliphant. It is an open source project and you can use it freely.\n",
    "## NumPy stands for Numerical Python.\n",
    "\n"
   ]
  },
  {
   "cell_type": "code",
   "execution_count": 1,
   "id": "3c5fb160",
   "metadata": {},
   "outputs": [
    {
     "name": "stdout",
     "output_type": "stream",
     "text": [
      "Original array: [1 2 3 4 5]\n",
      "Sum of elements: 15\n",
      "Mean of elements: 3.0\n",
      "Array after doubling: [ 2  4  6  8 10]\n"
     ]
    }
   ],
   "source": [
    "import numpy as np\n",
    "\n",
    "# Create a 1D numpy array\n",
    "arr = np.array([1, 2, 3, 4, 5])\n",
    "\n",
    "# Find the sum of all elements\n",
    "total = np.sum(arr)\n",
    "\n",
    "# Find the mean (average) of the elements\n",
    "average = np.mean(arr)\n",
    "\n",
    "# Multiply each element by 2\n",
    "doubled = arr * 2\n",
    "\n",
    "print(\"Original array:\", arr)\n",
    "print(\"Sum of elements:\", total)\n",
    "print(\"Mean of elements:\", average)\n",
    "print(\"Array after doubling:\", doubled)\n"
   ]
  },
  {
   "cell_type": "code",
   "execution_count": 2,
   "id": "1a529ce7",
   "metadata": {},
   "outputs": [
    {
     "name": "stdout",
     "output_type": "stream",
     "text": [
      "Total sales for the week: $22300\n",
      "Average daily sales: $3185.71\n",
      "Highest sales: $5000 on day 5\n",
      "Lowest sales: $1500 on day 3\n"
     ]
    }
   ],
   "source": [
    "import numpy as np\n",
    "\n",
    "# Sales data for 7 days (in dollars)\n",
    "sales = np.array([2500, 3000, 1500, 4000, 5000, 3500, 2800])\n",
    "\n",
    "# Total sales for the week\n",
    "total_sales = np.sum(sales)\n",
    "\n",
    "# Average sales per day\n",
    "average_sales = np.mean(sales)\n",
    "\n",
    "# Maximum sales and day\n",
    "max_sales = np.max(sales)\n",
    "day_max_sales = np.argmax(sales)  # returns the index (day number)\n",
    "\n",
    "# Minimum sales and day\n",
    "min_sales = np.min(sales)\n",
    "day_min_sales = np.argmin(sales)\n",
    "\n",
    "# Output results\n",
    "print(f\"Total sales for the week: ${total_sales}\")\n",
    "print(f\"Average daily sales: ${average_sales:.2f}\")\n",
    "print(f\"Highest sales: ${max_sales} on day {day_max_sales + 1}\")\n",
    "print(f\"Lowest sales: ${min_sales} on day {day_min_sales + 1}\")\n"
   ]
  },
  {
   "cell_type": "markdown",
   "id": "8171de47",
   "metadata": {},
   "source": [
    "## Numpy Copy"
   ]
  },
  {
   "cell_type": "code",
   "execution_count": 2,
   "id": "66b5c354",
   "metadata": {},
   "outputs": [
    {
     "name": "stdout",
     "output_type": "stream",
     "text": [
      "Elements in array [42  2  3  4  5]\n",
      "Copied [1 2 3 4 5]\n"
     ]
    }
   ],
   "source": [
    "import numpy as np\n",
    "\n",
    "arr = np.array([1, 2, 3, 4, 5])\n",
    "x = arr.copy()\n",
    "arr[0] = 42\n",
    "\n",
    "print(\"Elements in array\",arr)\n",
    "print(\"Copied\", x)"
   ]
  },
  {
   "cell_type": "code",
   "execution_count": 3,
   "id": "2f336d91",
   "metadata": {},
   "outputs": [
    {
     "name": "stdout",
     "output_type": "stream",
     "text": [
      "[42  2  3  4  5]\n",
      "[42  2  3  4  5]\n"
     ]
    }
   ],
   "source": [
    "import numpy as np\n",
    "\n",
    "arr = np.array([1, 2, 3, 4, 5])\n",
    "x = arr.view()\n",
    "arr[0] = 42\n",
    "\n",
    "print(arr)\n",
    "print(x)"
   ]
  },
  {
   "cell_type": "code",
   "execution_count": 4,
   "id": "e14f9523",
   "metadata": {},
   "outputs": [
    {
     "name": "stdout",
     "output_type": "stream",
     "text": [
      "None\n",
      "[1 2 3 4 5]\n"
     ]
    }
   ],
   "source": [
    "#Print the value of the base attribute to check if an array owns it's data or not:\n",
    "\n",
    "import numpy as np\n",
    "\n",
    "arr = np.array([1, 2, 3, 4, 5])\n",
    "\n",
    "x = arr.copy()\n",
    "y = arr.view()\n",
    "\n",
    "print(x.base)\n",
    "print(y.base)"
   ]
  },
  {
   "cell_type": "code",
   "execution_count": 5,
   "id": "d85ea51e",
   "metadata": {},
   "outputs": [
    {
     "name": "stdout",
     "output_type": "stream",
     "text": [
      "[1 2 3]\n"
     ]
    }
   ],
   "source": [
    "import numpy as np\n",
    "original_array = np.array([1, 2, 3])\n",
    "x = original_array.copy()\n",
    "x[0] = 5\n",
    "print(original_array)"
   ]
  },
  {
   "cell_type": "markdown",
   "id": "28d01e68",
   "metadata": {},
   "source": [
    "## Numpy with Plot"
   ]
  },
  {
   "cell_type": "code",
   "execution_count": 4,
   "id": "caf59e66",
   "metadata": {},
   "outputs": [
    {
     "name": "stdout",
     "output_type": "stream",
     "text": [
      "Collecting matplotlib\n",
      "  Downloading matplotlib-3.10.1-cp311-cp311-win_amd64.whl.metadata (11 kB)\n",
      "Collecting contourpy>=1.0.1 (from matplotlib)\n",
      "  Downloading contourpy-1.3.2-cp311-cp311-win_amd64.whl.metadata (5.5 kB)\n",
      "Collecting cycler>=0.10 (from matplotlib)\n",
      "  Using cached cycler-0.12.1-py3-none-any.whl.metadata (3.8 kB)\n",
      "Collecting fonttools>=4.22.0 (from matplotlib)\n",
      "  Downloading fonttools-4.57.0-cp311-cp311-win_amd64.whl.metadata (104 kB)\n",
      "Collecting kiwisolver>=1.3.1 (from matplotlib)\n",
      "  Using cached kiwisolver-1.4.8-cp311-cp311-win_amd64.whl.metadata (6.3 kB)\n",
      "Requirement already satisfied: numpy>=1.23 in d:\\gcet\\semester 5\\python\\python_basics\\semester_5\\.venv\\lib\\site-packages (from matplotlib) (2.2.5)\n",
      "Requirement already satisfied: packaging>=20.0 in d:\\gcet\\semester 5\\python\\python_basics\\semester_5\\.venv\\lib\\site-packages (from matplotlib) (25.0)\n",
      "Collecting pillow>=8 (from matplotlib)\n",
      "  Downloading pillow-11.2.1-cp311-cp311-win_amd64.whl.metadata (9.1 kB)\n",
      "Collecting pyparsing>=2.3.1 (from matplotlib)\n",
      "  Downloading pyparsing-3.2.3-py3-none-any.whl.metadata (5.0 kB)\n",
      "Requirement already satisfied: python-dateutil>=2.7 in d:\\gcet\\semester 5\\python\\python_basics\\semester_5\\.venv\\lib\\site-packages (from matplotlib) (2.9.0.post0)\n",
      "Requirement already satisfied: six>=1.5 in d:\\gcet\\semester 5\\python\\python_basics\\semester_5\\.venv\\lib\\site-packages (from python-dateutil>=2.7->matplotlib) (1.17.0)\n",
      "Downloading matplotlib-3.10.1-cp311-cp311-win_amd64.whl (8.1 MB)\n",
      "   ---------------------------------------- 0.0/8.1 MB ? eta -:--:--\n",
      "   -- ------------------------------------- 0.5/8.1 MB 3.4 MB/s eta 0:00:03\n",
      "   ------ --------------------------------- 1.3/8.1 MB 3.2 MB/s eta 0:00:03\n",
      "   ---------- ----------------------------- 2.1/8.1 MB 3.5 MB/s eta 0:00:02\n",
      "   -------------- ------------------------- 2.9/8.1 MB 3.6 MB/s eta 0:00:02\n",
      "   ------------------- -------------------- 3.9/8.1 MB 3.7 MB/s eta 0:00:02\n",
      "   ----------------------- ---------------- 4.7/8.1 MB 3.8 MB/s eta 0:00:01\n",
      "   --------------------------- ------------ 5.5/8.1 MB 3.8 MB/s eta 0:00:01\n",
      "   ----------------------------- ---------- 6.0/8.1 MB 3.8 MB/s eta 0:00:01\n",
      "   --------------------------------- ------ 6.8/8.1 MB 3.7 MB/s eta 0:00:01\n",
      "   ------------------------------------- -- 7.6/8.1 MB 3.7 MB/s eta 0:00:01\n",
      "   ---------------------------------------- 8.1/8.1 MB 3.5 MB/s eta 0:00:00\n",
      "Downloading contourpy-1.3.2-cp311-cp311-win_amd64.whl (222 kB)\n",
      "Using cached cycler-0.12.1-py3-none-any.whl (8.3 kB)\n",
      "Downloading fonttools-4.57.0-cp311-cp311-win_amd64.whl (2.2 MB)\n",
      "   ---------------------------------------- 0.0/2.2 MB ? eta -:--:--\n",
      "   -------------- ------------------------- 0.8/2.2 MB 3.7 MB/s eta 0:00:01\n",
      "   ----------------------- ---------------- 1.3/2.2 MB 3.7 MB/s eta 0:00:01\n",
      "   ---------------------------------------- 2.2/2.2 MB 3.6 MB/s eta 0:00:00\n",
      "Using cached kiwisolver-1.4.8-cp311-cp311-win_amd64.whl (71 kB)\n",
      "Downloading pillow-11.2.1-cp311-cp311-win_amd64.whl (2.7 MB)\n",
      "   ---------------------------------------- 0.0/2.7 MB ? eta -:--:--\n",
      "   ----------- ---------------------------- 0.8/2.7 MB 4.2 MB/s eta 0:00:01\n",
      "   ----------------------- ---------------- 1.6/2.7 MB 3.8 MB/s eta 0:00:01\n",
      "   ----------------------------------- ---- 2.4/2.7 MB 3.8 MB/s eta 0:00:01\n",
      "   ---------------------------------------- 2.7/2.7 MB 3.6 MB/s eta 0:00:00\n",
      "Downloading pyparsing-3.2.3-py3-none-any.whl (111 kB)\n",
      "Installing collected packages: pyparsing, pillow, kiwisolver, fonttools, cycler, contourpy, matplotlib\n",
      "Successfully installed contourpy-1.3.2 cycler-0.12.1 fonttools-4.57.0 kiwisolver-1.4.8 matplotlib-3.10.1 pillow-11.2.1 pyparsing-3.2.3\n",
      "Note: you may need to restart the kernel to use updated packages.\n"
     ]
    },
    {
     "name": "stderr",
     "output_type": "stream",
     "text": [
      "\n",
      "[notice] A new release of pip is available: 25.0.1 -> 25.1\n",
      "[notice] To update, run: python.exe -m pip install --upgrade pip\n"
     ]
    }
   ],
   "source": [
    "pip install matplotlib\n"
   ]
  },
  {
   "cell_type": "code",
   "execution_count": 1,
   "id": "6013e0be",
   "metadata": {},
   "outputs": [
    {
     "data": {
      "image/png": "[encoded data removed]",
      "text/plain": [
       "<Figure size 576x360 with 1 Axes>"
      ]
     },
     "metadata": {
      "needs_background": "light"
     },
     "output_type": "display_data"
    }
   ],
   "source": [
    "import numpy as np\n",
    "import matplotlib.pyplot as plt\n",
    "\n",
    "# Sales data for 7 days (in dollars)\n",
    "sales = np.array([2500, 3000, 1500, 4000, 5000, 3500, 2800])\n",
    "\n",
    "# Days of the week\n",
    "days = ['Mon', 'Tue', 'Wed', 'Thu', 'Fri', 'Sat', 'Sun']\n",
    "\n",
    "# Plotting the sales\n",
    "plt.figure(figsize=(8, 5))  # set the size of the graph\n",
    "plt.plot(days, sales, marker='o', linestyle='-', color='b', label='Sales')\n",
    "\n",
    "# Highlight maximum and minimum points\n",
    "max_day = np.argmax(sales)\n",
    "min_day = np.argmin(sales)\n",
    "\n",
    "plt.scatter(days[max_day], sales[max_day], color='green', label='Max Sale', s=100)\n",
    "plt.scatter(days[min_day], sales[min_day], color='red', label='Min Sale', s=100)\n",
    "\n",
    "# Adding titles and labels\n",
    "plt.title('Weekly Sales Overview')\n",
    "plt.xlabel('Day')\n",
    "plt.ylabel('Sales ($)')\n",
    "plt.legend()\n",
    "plt.grid(True)\n",
    "\n",
    "# Show the plot\n",
    "plt.show()\n"
   ]
  },
  {
   "cell_type": "markdown",
   "id": "44924ae0",
   "metadata": {},
   "source": [
    "## with bar chart"
   ]
  },
  {
   "cell_type": "code",
   "execution_count": 6,
   "id": "252bd2b1",
   "metadata": {},
   "outputs": [
    {
     "data": {
      "image/png": "[encoded data removed]",
      "text/plain": [
       "<Figure size 800x500 with 1 Axes>"
      ]
     },
     "metadata": {},
     "output_type": "display_data"
    }
   ],
   "source": [
    "import numpy as np\n",
    "import matplotlib.pyplot as plt\n",
    "\n",
    "# Sales data for 7 days (in dollars)\n",
    "sales = np.array([2500, 3000, 1500, 4000, 5000, 3500, 2800])\n",
    "\n",
    "# Days of the week\n",
    "days = ['Mon', 'Tue', 'Wed', 'Thu', 'Fri', 'Sat', 'Sun']\n",
    "\n",
    "# Plotting the bar chart\n",
    "plt.figure(figsize=(8, 5))\n",
    "bars = plt.bar(days, sales, color='skyblue', edgecolor='black')\n",
    "\n",
    "# Highlight maximum and minimum bars\n",
    "max_day = np.argmax(sales)\n",
    "min_day = np.argmin(sales)\n",
    "\n",
    "bars[max_day].set_color('green')  # Max sale bar -> Green\n",
    "bars[min_day].set_color('red')    # Min sale bar -> Red\n",
    "\n",
    "# Adding titles and labels\n",
    "plt.title('Weekly Sales Overview (Bar Chart)')\n",
    "plt.xlabel('Day')\n",
    "plt.ylabel('Sales ($)')\n",
    "plt.grid(axis='y', linestyle='--', alpha=0.7)\n",
    "\n",
    "# Add values on top of bars\n",
    "for bar in bars:\n",
    "    yval = bar.get_height()\n",
    "    plt.text(bar.get_x() + bar.get_width()/2, yval + 100, f'{int(yval)}', ha='center', va='bottom')\n",
    "\n",
    "# Show the plot\n",
    "plt.show()\n"
   ]
  },
  {
   "cell_type": "markdown",
   "id": "c58d967c",
   "metadata": {},
   "source": []
  },
  {
   "cell_type": "markdown",
   "id": "79ea8e6b",
   "metadata": {},
   "source": [
    "# Chart for Numpy"
   ]
  },
  {
   "cell_type": "code",
   "execution_count": 4,
   "id": "e8dee6aa",
   "metadata": {},
   "outputs": [
    {
     "data": {
      "image/png": "[encoded data removed]",
      "text/plain": [
       "<Figure size 640x480 with 1 Axes>"
      ]
     },
     "metadata": {},
     "output_type": "display_data"
    }
   ],
   "source": [
    "import numpy as np\n",
    "import matplotlib.pyplot as plt\n",
    "\n",
    "# Example data: categories and values\n",
    "Course = np.array(['A', 'B', 'C', 'D', 'E'])\n",
    "Students = np.array([10, 15, 7, 22, 9])\n",
    "\n",
    "# Create the bar chart\n",
    "plt.bar(Course, Students, color='skyblue')\n",
    "\n",
    "# Customize the chart\n",
    "plt.title('Bar Chart_Numpy')\n",
    "plt.xlabel('Course')\n",
    "plt.ylabel('Students')\n",
    "\n",
    "# Show the chart\n",
    "plt.show()"
   ]
  },
  {
   "cell_type": "markdown",
   "id": "6bfaee9f",
   "metadata": {},
   "source": []
  }
 ],
 "metadata": {
  "kernelspec": {
   "display_name": ".venv",
   "language": "python",
   "name": "python3"
  },
  "language_info": {
   "codemirror_mode": {
    "name": "ipython",
    "version": 3
   },
   "file_extension": ".py",
   "mimetype": "text/x-python",
   "name": "python",
   "nbconvert_exporter": "python",
   "pygments_lexer": "ipython3",
   "version": "3.11.9"
  }
 },
 "nbformat": 4,
 "nbformat_minor": 5
}
