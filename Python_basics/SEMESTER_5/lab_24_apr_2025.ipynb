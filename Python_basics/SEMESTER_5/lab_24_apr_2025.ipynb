{
 "cells": [
  {
   "cell_type": "markdown",
   "id": "bb72b8b7",
   "metadata": {},
   "source": [
    "### 1.\tWrite a program to display the index value against each character in the string.\n"
   ]
  },
  {
   "cell_type": "code",
   "execution_count": null,
   "id": "de10e354",
   "metadata": {},
   "outputs": [],
   "source": [
    "string = \"example\"\n",
    "for index, char in enumerate(string):\n",
    "    print(f\"Index {index}: {char}\")"
   ]
  },
  {
   "cell_type": "markdown",
   "id": "ecf02824",
   "metadata": {},
   "source": [
    "### 2. Reversing a list"
   ]
  },
  {
   "cell_type": "code",
   "execution_count": null,
   "id": "c80bdf20",
   "metadata": {},
   "outputs": [],
   "source": [
    "my_list = [1, 2, 3, 4, 5]\n",
    "reversed_list = my_list[::-1]\n",
    "print(f\"Reversed List: {reversed_list}\")"
   ]
  },
  {
   "cell_type": "markdown",
   "id": "4b1cb71e",
   "metadata": {},
   "source": [
    "### 3.Write a program to maximize frequency in a string?"
   ]
  },
  {
   "cell_type": "code",
   "execution_count": 2,
   "id": "03b171b7",
   "metadata": {},
   "outputs": [
    {
     "name": "stdout",
     "output_type": "stream",
     "text": [
      "The character with maximum frequency: a\n"
     ]
    }
   ],
   "source": [
    "from collections import Counter\n",
    "string = \"aabbccdde\"\n",
    "freq = Counter(string)\n",
    "max_freq = max(freq, key=freq.get)\n",
    "print(f\"The character with maximum frequency: {max_freq}\")"
   ]
  },
  {
   "cell_type": "markdown",
   "id": "31130d5a",
   "metadata": {},
   "source": [
    "### 4. Program to join two tuples if their first element is the same"
   ]
  },
  {
   "cell_type": "code",
   "execution_count": null,
   "id": "4697d2ed",
   "metadata": {},
   "outputs": [],
   "source": [
    "tuple1 = (1, 2, 3)\n",
    "tuple2 = (1, 4, 5)\n",
    "if tuple1[0] == tuple2[0]:\n",
    "    result = tuple1 + tuple2\n",
    "    print(f\"Joined Tuple: {result}\")\n",
    "else:\n",
    "    print(\"Tuples cannot be joined.\")"
   ]
  },
  {
   "cell_type": "markdown",
   "id": "a3ee422c",
   "metadata": {},
   "source": [
    "### 5. Demonstrate  set"
   ]
  },
  {
   "cell_type": "code",
   "execution_count": 3,
   "id": "c193a48d",
   "metadata": {},
   "outputs": [
    {
     "name": "stdout",
     "output_type": "stream",
     "text": [
      "Set: {1, 2, 3, 4, 5}\n"
     ]
    }
   ],
   "source": [
    "my_set = {1, 2, 3, 4, 5}\n",
    "print(\"Set:\", my_set)"
   ]
  },
  {
   "cell_type": "code",
   "execution_count": 9,
   "id": "da436484",
   "metadata": {},
   "outputs": [
    {
     "name": "stdout",
     "output_type": "stream",
     "text": [
      "After add: {1, 2, 4, 5, 6}\n"
     ]
    }
   ],
   "source": [
    "# Adding elements\n",
    "my_set.add(6)\n",
    "print(\"After add:\", my_set)\n",
    "\n",
    "#"
   ]
  },
  {
   "cell_type": "code",
   "execution_count": null,
   "id": "6b7ec894",
   "metadata": {},
   "outputs": [
    {
     "ename": "KeyError",
     "evalue": "3",
     "output_type": "error",
     "traceback": [
      "\u001b[31m---------------------------------------------------------------------------\u001b[39m",
      "\u001b[31mKeyError\u001b[39m                                  Traceback (most recent call last)",
      "\u001b[36mCell\u001b[39m\u001b[36m \u001b[39m\u001b[32mIn[10]\u001b[39m\u001b[32m, line 2\u001b[39m\n\u001b[32m      1\u001b[39m  \u001b[38;5;66;03m#Removing elements\u001b[39;00m\n\u001b[32m----> \u001b[39m\u001b[32m2\u001b[39m \u001b[43mmy_set\u001b[49m\u001b[43m.\u001b[49m\u001b[43mremove\u001b[49m\u001b[43m(\u001b[49m\u001b[32;43m3\u001b[39;49m\u001b[43m)\u001b[49m\n\u001b[32m      3\u001b[39m \u001b[38;5;28mprint\u001b[39m(\u001b[33m\"\u001b[39m\u001b[33mAfter remove:\u001b[39m\u001b[33m\"\u001b[39m, my_set)\n",
      "\u001b[31mKeyError\u001b[39m: 3"
     ]
    }
   ],
   "source": [
    "\n",
    "\n",
    "\n",
    "\n"
   ]
  },
  {
   "cell_type": "code",
   "execution_count": 11,
   "id": "2fba5ebd",
   "metadata": {},
   "outputs": [
    {
     "ename": "KeyError",
     "evalue": "3",
     "output_type": "error",
     "traceback": [
      "\u001b[31m---------------------------------------------------------------------------\u001b[39m",
      "\u001b[31mKeyError\u001b[39m                                  Traceback (most recent call last)",
      "\u001b[36mCell\u001b[39m\u001b[36m \u001b[39m\u001b[32mIn[11]\u001b[39m\u001b[32m, line 2\u001b[39m\n\u001b[32m      1\u001b[39m  \u001b[38;5;66;03m#Removing elements\u001b[39;00m\n\u001b[32m----> \u001b[39m\u001b[32m2\u001b[39m \u001b[43mmy_set\u001b[49m\u001b[43m.\u001b[49m\u001b[43mremove\u001b[49m\u001b[43m(\u001b[49m\u001b[32;43m3\u001b[39;49m\u001b[43m)\u001b[49m\n\u001b[32m      3\u001b[39m \u001b[38;5;28mprint\u001b[39m(\u001b[33m\"\u001b[39m\u001b[33mAfter remove:\u001b[39m\u001b[33m\"\u001b[39m, my_set)\n",
      "\u001b[31mKeyError\u001b[39m: 3"
     ]
    }
   ],
   "source": [
    " #Removing elements\n",
    "my_set.remove(3)\n",
    "print(\"After remove:\", my_set)"
   ]
  },
  {
   "cell_type": "code",
   "execution_count": null,
   "id": "07843381",
   "metadata": {},
   "outputs": [],
   "source": [
    "# Union of sets\n",
    "another_set = {4, 5, 6, 7}\n",
    "print(\"Union:\", my_set.union(another_set))"
   ]
  },
  {
   "cell_type": "code",
   "execution_count": null,
   "id": "4b3bd95a",
   "metadata": {},
   "outputs": [],
   "source": [
    "# Intersection of sets\n",
    "print(\"Intersection:\", my_set.intersection(another_set))"
   ]
  },
  {
   "cell_type": "markdown",
   "id": "cfef423d",
   "metadata": {},
   "source": [
    "### 6. Demonstarte Dictionary"
   ]
  },
  {
   "cell_type": "code",
   "execution_count": 12,
   "id": "52541f27",
   "metadata": {},
   "outputs": [
    {
     "name": "stdout",
     "output_type": "stream",
     "text": [
      "Dictionary: {'a': 1, 'b': 2, 'c': 3}\n"
     ]
    }
   ],
   "source": [
    "# Creating a dictionary\n",
    "my_dict = {\"a\": 1, \"b\": 2, \"c\": 3}\n",
    "print(\"Dictionary:\", my_dict)"
   ]
  },
  {
   "cell_type": "markdown",
   "id": "2c496a3f",
   "metadata": {},
   "source": [
    "#### Methods"
   ]
  },
  {
   "cell_type": "code",
   "execution_count": 13,
   "id": "2892d17a",
   "metadata": {},
   "outputs": [
    {
     "name": "stdout",
     "output_type": "stream",
     "text": [
      "Value of 'a': 1\n",
      "After adding: {'a': 1, 'b': 2, 'c': 3, 'd': 4}\n",
      "After pop: {'a': 1, 'c': 3, 'd': 4}\n",
      "Keys: dict_keys(['a', 'c', 'd'])\n",
      "Values: dict_values([1, 3, 4])\n"
     ]
    }
   ],
   "source": [
    "# Accessing values\n",
    "print(\"Value of 'a':\", my_dict[\"a\"])\n",
    "\n",
    "# Adding key-value pairs\n",
    "my_dict[\"d\"] = 4\n",
    "print(\"After adding:\", my_dict)\n",
    "\n",
    "# Removing key-value pairs\n",
    "my_dict.pop(\"b\")\n",
    "print(\"After pop:\", my_dict)\n",
    "\n",
    "# Getting all keys\n",
    "print(\"Keys:\", my_dict.keys())\n",
    "\n",
    "# Getting all values\n",
    "print(\"Values:\", my_dict.values())"
   ]
  },
  {
   "cell_type": "markdown",
   "id": "b2fbbe78",
   "metadata": {},
   "source": []
  }
 ],
 "metadata": {
  "kernelspec": {
   "display_name": ".venv",
   "language": "python",
   "name": "python3"
  },
  "language_info": {
   "codemirror_mode": {
    "name": "ipython",
    "version": 3
   },
   "file_extension": ".py",
   "mimetype": "text/x-python",
   "name": "python",
   "nbconvert_exporter": "python",
   "pygments_lexer": "ipython3",
   "version": "3.11.9"
  }
 },
 "nbformat": 4,
 "nbformat_minor": 5
}
