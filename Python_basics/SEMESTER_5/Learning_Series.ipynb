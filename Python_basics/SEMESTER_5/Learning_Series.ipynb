{
 "cells": [
  {
   "cell_type": "markdown",
   "id": "acdd2aca",
   "metadata": {},
   "source": [
    "## Python Learning Series:\n",
    "map(), filter(), and reduce() in Python\n",
    "These three functions are part of functional programming in Python and are often used for concise, clean, and readable code when working with lists or other iterable data. \n",
    "1.  map(function, iterable).applies a function to every item in the iterable.\n"
   ]
  },
  {
   "cell_type": "code",
   "execution_count": 4,
   "id": "629f0ef7",
   "metadata": {},
   "outputs": [
    {
     "ename": "SyntaxError",
     "evalue": "invalid syntax (Temp/ipykernel_7664/2448671093.py, line 2)",
     "output_type": "error",
     "traceback": [
      "\u001b[1;36m  File \u001b[1;32m\"C:\\Users\\ERMUSH~1\\AppData\\Local\\Temp/ipykernel_7664/2448671093.py\"\u001b[1;36m, line \u001b[1;32m2\u001b[0m\n\u001b[1;33m    squares = list(map(lambda x: x  2, nums))\u001b[0m\n\u001b[1;37m                                    ^\u001b[0m\n\u001b[1;31mSyntaxError\u001b[0m\u001b[1;31m:\u001b[0m invalid syntax\n"
     ]
    }
   ],
   "source": [
    "nums = [1, 2, 3, 4]\n",
    "squares = list(map(lambda x: x  2, nums))\n",
    "print(nums)\n",
    "#print(squares)  \n",
    "# Output: [1, 4, 9, 16]\n"
   ]
  },
  {
   "cell_type": "markdown",
   "id": "c28a5759",
   "metadata": {},
   "source": [
    "## 2. filter(function, iterable)\n",
    "Returns only the items that evaluate to True from the iterable based on the function.\n",
    "\n"
   ]
  },
  {
   "cell_type": "code",
   "execution_count": 5,
   "id": "88c9cda2",
   "metadata": {},
   "outputs": [
    {
     "name": "stdout",
     "output_type": "stream",
     "text": [
      "[2, 4, 6]\n"
     ]
    }
   ],
   "source": [
    "nums = [1, 2, 3, 4, 5, 6]\n",
    "evens = list(filter(lambda x: x % 2 == 0, nums))\n",
    "print(evens)  # Output: [2, 4, 6]"
   ]
  },
  {
   "attachments": {},
   "cell_type": "markdown",
   "id": "da4076dc",
   "metadata": {},
   "source": [
    "## 3. reduce: 3. reduce(function, iterable)\n",
    "### Applies a function cumulatively to the items of the iterable.\n",
    "Note: You must import it from functools.\n",
    "from functools import reduce\n"
   ]
  },
  {
   "cell_type": "code",
   "execution_count": 8,
   "id": "6ab9deab",
   "metadata": {},
   "outputs": [
    {
     "name": "stdout",
     "output_type": "stream",
     "text": [
      "24\n"
     ]
    }
   ],
   "source": [
    "from functools import reduce\n",
    "\n",
    "nums = [1, 2, 3, 4]\n",
    "product = reduce(lambda x, y: x * y, nums)  # Use * instead of a space\n",
    "print(product)  # Output: 24"
   ]
  }
 ],
 "metadata": {
  "kernelspec": {
   "display_name": "Python 3 (ipykernel)",
   "language": "python",
   "name": "python3"
  },
  "language_info": {
   "codemirror_mode": {
    "name": "ipython",
    "version": 3
   },
   "file_extension": ".py",
   "mimetype": "text/x-python",
   "name": "python",
   "nbconvert_exporter": "python",
   "pygments_lexer": "ipython3",
   "version": "3.9.7"
  }
 },
 "nbformat": 4,
 "nbformat_minor": 5
}
