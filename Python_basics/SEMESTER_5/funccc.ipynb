{
 "cells": [
  {
   "cell_type": "code",
   "execution_count": 9,
   "id": "9414ae18",
   "metadata": {},
   "outputs": [
    {
     "name": "stdout",
     "output_type": "stream",
     "text": [
      "Happy Birthday to you!\n",
      "Happy Birthday to you!\n",
      "Happy Birthday dear friend!\n",
      "Enjoy your day to the fullest!\n"
     ]
    }
   ],
   "source": [
    "def happy_birthday():\n",
    "    \"\"\"\n",
    "    This function prints a birthday message.\n",
    "    \"\"\"\n",
    "    print(\"Happy Birthday to you!\")\n",
    "    print(\"Happy Birthday to you!\")\n",
    "    print(\"Happy Birthday dear friend!\")\n",
    "\n",
    "    print(\"Enjoy your day to the fullest!\")\n",
    "happy_birthday()\n",
    "# This code defines a function that prints a birthday message when called.\n",
    "# The function is then called to display the message.   \n"
   ]
  },
  {
   "cell_type": "code",
   "execution_count": 12,
   "id": "dc52ea12",
   "metadata": {},
   "outputs": [
    {
     "name": "stdout",
     "output_type": "stream",
     "text": [
      "Happy Birthday to Mushtaq!\n",
      "Happy Birthday to you!\n",
      "Happy Birthday dear friend!\n",
      " You are now 34 years old!\n",
      "Enjoy your day to the fullest!\n"
     ]
    }
   ],
   "source": [
    "def happy_birthday(name,age):\n",
    "    \"\"\"\n",
    "    This function prints a birthday message.\n",
    "    \"\"\"\n",
    "    print(f\"Happy Birthday to {name}!\")\n",
    "    print(\"Happy Birthday to you!\")\n",
    "    print(\"Happy Birthday dear friend!\")\n",
    "    print(f\" You are now {age} years old!\")\n",
    "    print(\"Enjoy your day to the fullest!\")\n",
    "happy_birthday(\"Mushtaq\",34)\n",
    "# This code defines a function that prints a birthday message when called.\n",
    "# The function is then called to display the message.   \n"
   ]
  },
  {
   "cell_type": "code",
   "execution_count": 13,
   "id": "5ba43236",
   "metadata": {},
   "outputs": [
    {
     "name": "stdout",
     "output_type": "stream",
     "text": [
      "Happy Birthday to Mushtaq!\n",
      "Happy Birthday to you!\n",
      "Happy Birthday dear friend!\n",
      " You are now 34 years old!\n",
      "Enjoy your day to the fullest!Have a great day!\n"
     ]
    }
   ],
   "source": [
    "def happy_birthday(name,age,message):\n",
    "    \"\"\"\n",
    "    This function prints a birthday message.\n",
    "    \"\"\"\n",
    "    print(f\"Happy Birthday to {name}!\")\n",
    "    print(\"Happy Birthday to you!\")\n",
    "    print(\"Happy Birthday dear friend!\")\n",
    "    print(f\" You are now {age} years old!\")\n",
    "    print(f\"Enjoy your day to the fullest!{message}\")\n",
    "happy_birthday(\"Mushtaq\",34,\"Have a great day!\")\n",
    "# This code defines a function that prints a birthday message when called.\n",
    "# The function is then called to display the message.   \n"
   ]
  },
  {
   "cell_type": "code",
   "execution_count": 14,
   "id": "38fd72c2",
   "metadata": {},
   "outputs": [
    {
     "name": "stdout",
     "output_type": "stream",
     "text": [
      "Happy Birthday to Mushtaq!\n",
      "Happy Birthday to you!\n",
      "Happy Birthday dear friend!\n",
      " You are now 34 years old!\n",
      "Enjoy your day to the fullest!Have a great day!\n",
      "Happy Birthday to AHMAD!\n",
      "Happy Birthday to you!\n",
      "Happy Birthday dear friend!\n",
      " You are now 24 years old!\n",
      "Enjoy your day to the fullest!Have a great day!\n",
      "Happy Birthday to ZUHAIB!\n",
      "Happy Birthday to you!\n",
      "Happy Birthday dear friend!\n",
      " You are now 44 years old!\n",
      "Enjoy your day to the fullest!Have a great day!\n"
     ]
    }
   ],
   "source": [
    "def happy_birthday(name,age,message):\n",
    "    \"\"\"\n",
    "    This function prints a birthday message.\n",
    "    \"\"\"\n",
    "    print(f\"Happy Birthday to {name}!\")\n",
    "    print(\"Happy Birthday to you!\")\n",
    "    print(\"Happy Birthday dear friend!\")\n",
    "    print(f\" You are now {age} years old!\")\n",
    "    print(f\"Enjoy your day to the fullest!{message}\")\n",
    "happy_birthday(\"Mushtaq\",34,\"Have a great day!\")\n",
    "happy_birthday(\"AHMAD\",24,\"Have a great day!\")\n",
    "happy_birthday(\"ZUHAIB\",44,\"Have a great day!\")\n",
    "# This code defines a function that prints a birthday message when called.\n",
    "# The function is then called to display the message.   \n"
   ]
  },
  {
   "cell_type": "code",
   "execution_count": 19,
   "id": "a80d40a9",
   "metadata": {},
   "outputs": [
    {
     "name": "stdout",
     "output_type": "stream",
     "text": [
      "Dear Mushtaq,\n",
      "Your invoice amount is 1000.\n",
      "Please pay by 2023-10-31.\n",
      "Thank you for your business!\n"
     ]
    }
   ],
   "source": [
    "def display_invoice(username,amount,due_date):\n",
    "    print(f\"Dear {username},\")\n",
    "    print(f\"Your invoice amount is {amount}.\")      \n",
    "    print(f\"Please pay by {due_date}.\")\n",
    "    print(\"Thank you for your business!\")\n",
    "display_invoice(\"Mushtaq\", 1000, \"2023-10-31\")\n",
    "# This code defines a function that prints an invoice message when called.\n",
    "# The function is then called to display the message.   \n"
   ]
  },
  {
   "cell_type": "code",
   "execution_count": 27,
   "id": "895bd8c6",
   "metadata": {},
   "outputs": [
    {
     "name": "stdout",
     "output_type": "stream",
     "text": [
      "Dear Mushtaq,\n",
      "Your invoice amount is 1000.\n",
      "Please pay by 2023-10-31.\n",
      "Thank you for your business!\n",
      "Dear Mushtaq Ahmad,\n",
      "Your invoice amount is 1500.\n",
      "Please pay by 2023-10-31.\n",
      "Thank you for your business!\n",
      "Dear Qamar,\n",
      "Your invoice amount is 2000.\n",
      "Please pay by 2023-10-31.\n",
      "Thank you for your business!\n",
      "Dear Ali,\n",
      "Your invoice amount is 2500.\n",
      "Please pay by 2023-10-31.\n",
      "Thank you for your business!\n"
     ]
    }
   ],
   "source": [
    "def display_invoice(username,amount,due_date):\n",
    "    print(f\"Dear {username},\")\n",
    "    print(f\"Your invoice amount is {amount}.\")      \n",
    "    print(f\"Please pay by {due_date}.\")\n",
    "    print(\"Thank you for your business!\")\n",
    "\n",
    "# Call the function with different arguments\n",
    "display_invoice(\"Mushtaq\", 1000, \"2023-10-31\")  \n",
    "display_invoice(\"Mushtaq Ahmad\", 1500, \"2023-10-31\")\n",
    "display_invoice(\"Qamar\", 2000, \"2023-10-31\")\n",
    "display_invoice(\"Ali\", 2500, \"2023-10-31\")\n",
    "# This code defines a function that prints an invoice message when called.\n",
    "# The function is then called to display the message.\n"
   ]
  },
  {
   "cell_type": "code",
   "execution_count": 22,
   "id": "503bfdbe",
   "metadata": {},
   "outputs": [
    {
     "name": "stdout",
     "output_type": "stream",
     "text": [
      "5\n",
      "6\n",
      "-1\n",
      "0.6666666666666666\n",
      "5\n"
     ]
    }
   ],
   "source": [
    "def add(x,y):\n",
    "    \"\"\"\n",
    "    This function returns the sum of two numbers.\n",
    "    \"\"\"\n",
    "    return x + y\n",
    "# Call the function with different arguments        \n",
    "z=add(2,3)\n",
    "print(z)    \n",
    "# This code defines a function that prints an invoice message when called.\n",
    "def mul(x,y):\n",
    "    \"\"\"\n",
    "    This function returns the sum of two numbers.\n",
    "    \"\"\"\n",
    "    return x * y\n",
    "# Call the function with different arguments    \n",
    "z=mul(2,3)\n",
    "print(z)\n",
    "# This code defines a function that prints an invoice message when called.\n",
    "def sub(x,y):\n",
    "    \"\"\"\n",
    "    This function returns the sum of two numbers.\n",
    "    \"\"\"\n",
    "    return x - y\n",
    "# Call the function with different arguments\n",
    "z=sub(2,3)\n",
    "print(z)    \n",
    "# This code defines a function that prints an invoice message when called.\n",
    "def div(x,y):\n",
    "    \"\"\"\n",
    "    This function returns the sum of two numbers.\n",
    "    \"\"\"\n",
    "    return x / y\n",
    "# Call the function with different arguments\n",
    "z=div(2,3)  \n",
    "print(z)\n",
    "# This code defines a function that prints an invoice message when called.\n",
    "def add(x,y):\n",
    "    \"\"\"\n",
    "    This function returns the sum of two numbers.\n",
    "    \"\"\"\n",
    "    return x + y\n",
    "# Call the function with different arguments\n",
    "z=add(2,3)\n",
    "print(z)\n"
   ]
  },
  {
   "cell_type": "code",
   "execution_count": 23,
   "id": "b2f56a11",
   "metadata": {},
   "outputs": [
    {
     "name": "stdout",
     "output_type": "stream",
     "text": [
      "Mushtaq Ahmad\n"
     ]
    }
   ],
   "source": [
    "def create_name(first_name, last_name):\n",
    "    \"\"\"\n",
    "    This function creates a full name from first and last name.\n",
    "    \"\"\"\n",
    "    first_name = first_name.capitalize()\n",
    "    last_name = last_name.capitalize()  \n",
    "    return f\"{first_name} {last_name}\"\n",
    "# Call the function with different arguments\n",
    "full_name = create_name(\"mushtaq\", \"ahmad\") \n",
    "print(full_name)  # Output: Mushtaq Ahmad\n",
    "# This code defines a function that prints an invoice message when called.  \n"
   ]
  },
  {
   "cell_type": "code",
   "execution_count": 26,
   "id": "82afd91f",
   "metadata": {},
   "outputs": [
    {
     "name": "stdout",
     "output_type": "stream",
     "text": [
      "Mushtaq Ahmad\n",
      "Mushtaq1 Ahmad\n"
     ]
    }
   ],
   "source": [
    "def create_name(first_name, last_name):\n",
    "    \"\"\"\n",
    "    This function creates a full name from first and last name.\n",
    "    \"\"\"\n",
    "    first_name = first_name.capitalize()\n",
    "    last_name = last_name.capitalize()  \n",
    "    return f\"{first_name} {last_name}\"\n",
    "# Call the function with different arguments\n",
    "full_name = create_name(\"mushtaq\", \"ahmad\") \n",
    "full_name1 = create_name(\"mushtaq1\", \"ahmad\") \n",
    "print(full_name)  # Output: Mushtaq Ahmad\n",
    "print(full_name1)  # Output: Mushtaq1 Ahmad\n",
    "# This code defines a function that prints an invoice message when called.  \n"
   ]
  },
  {
   "cell_type": "code",
   "execution_count": 18,
   "id": "e472477f",
   "metadata": {},
   "outputs": [
    {
     "name": "stdout",
     "output_type": "stream",
     "text": [
      "Hello, Mushtaq!\n",
      "The value of a is: 5\n",
      "5.933333333333334\n"
     ]
    }
   ],
   "source": [
    "# Anatomy of a Function\n",
    "def main(name,a): # This is the main function that takes a name as an argument\n",
    "\tprint(\"Hello, \" + name + \"!\") # This line prints a greeting message with the name\n",
    "\tprint(\"The value of a is: \" + str(a)) # This line prints the value of a\n",
    "\tmid = average(10.6, 7.2)\n",
    "\tprint(mid) # This is the average of 10.6 and 7.2\n",
    "\n",
    "def average(a, b):# This function takes two numbers and returns their average\n",
    "\ttotal = a + b\n",
    "\treturn total / 3\n",
    "\n",
    "# Call the main function\n",
    "main(\"Mushtaq\",5) # This is the main function that calls the average function\n",
    "\n",
    "\n",
    "\n",
    "\n"
   ]
  },
  {
   "cell_type": "code",
   "execution_count": null,
   "id": "d7ffaf8f",
   "metadata": {},
   "outputs": [],
   "source": []
  },
  {
   "cell_type": "code",
   "execution_count": null,
   "id": "966f39ad",
   "metadata": {},
   "outputs": [],
   "source": [
    "def recursive_factorial(n):\n",
    "    \"\"\"Calculate the factorial of a number using recursion.\"\"\"\n",
    "    n = int(input(\"Enter the value of n:/\"))\n",
    "    if n < 0:\n",
    "        raise ValueError(\"Factorial is not defined for negative numbers.\")\n",
    "    if n == 0 or n == 1:\n",
    "        return 1\n",
    "    result = n * recursive_factorial(n - 1)\n",
    "    print(f\"Factorial of {n} is {result}\")\n",
    "    return result"
   ]
  },
  {
   "cell_type": "code",
   "execution_count": 5,
   "id": "18316e27",
   "metadata": {},
   "outputs": [
    {
     "name": "stdout",
     "output_type": "stream",
     "text": [
      "0\n",
      "0\n",
      "1\n",
      "1\n",
      "2\n",
      "3\n",
      "5\n",
      "8\n",
      "13\n",
      "21\n"
     ]
    }
   ],
   "source": [
    "def fib(n):\n",
    "    #cur = int(input(\"Enter the current value\"))\n",
    "    cur=0\n",
    "    old = 1\n",
    "    i = 1\n",
    "    while (i < n):\n",
    "        cur, old, i = cur+old, cur, i+1\n",
    "    return cur\n",
    "\n",
    "for i in range(10):\n",
    "    print(fib(i))"
   ]
  },
  {
   "cell_type": "code",
   "execution_count": null,
   "id": "850e3ee5",
   "metadata": {},
   "outputs": [],
   "source": []
  },
  {
   "cell_type": "code",
   "execution_count": null,
   "id": "e357f411",
   "metadata": {},
   "outputs": [
    {
     "name": "stdout",
     "output_type": "stream",
     "text": [
      "5.933333333333334\n"
     ]
    }
   ],
   "source": [
    "# Anatomy of a Function\n",
    "def main():\n",
    "\tmid = average(10.6, 7.2)\n",
    "\tprint(mid) # This is the average of 10.6 and 7.2\n",
    "\n",
    "def average(a, b):# This function takes two numbers and returns their average\n",
    "\ttotal = a + b\n",
    "\treturn total / 3\n",
    "\n",
    "# Call the main function\n",
    "main() # This is the main function that calls the average function\n",
    "\n",
    "\n"
   ]
  }
 ],
 "metadata": {
  "kernelspec": {
   "display_name": "Python 3",
   "language": "python",
   "name": "python3"
  },
  "language_info": {
   "codemirror_mode": {
    "name": "ipython",
    "version": 3
   },
   "file_extension": ".py",
   "mimetype": "text/x-python",
   "name": "python",
   "nbconvert_exporter": "python",
   "pygments_lexer": "ipython3",
   "version": "3.13.3"
  }
 },
 "nbformat": 4,
 "nbformat_minor": 5
}
