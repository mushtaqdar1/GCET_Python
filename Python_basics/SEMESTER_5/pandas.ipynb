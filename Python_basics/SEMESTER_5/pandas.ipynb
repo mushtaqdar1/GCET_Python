{
 "cells": [
  {
   "cell_type": "code",
   "execution_count": null,
   "id": "ff19eb61",
   "metadata": {},
   "outputs": [],
   "source": []
  },
  {
   "cell_type": "markdown",
   "id": "c88fddf7",
   "metadata": {},
   "source": [
    "Use of Panda Library"
   ]
  },
  {
   "cell_type": "markdown",
   "id": "a916c876",
   "metadata": {},
   "source": []
  },
  {
   "cell_type": "code",
   "execution_count": 6,
   "id": "55f92104",
   "metadata": {},
   "outputs": [
    {
     "name": "stdout",
     "output_type": "stream",
     "text": [
      "Collecting pandas\n",
      "  Using cached pandas-2.2.3-cp311-cp311-win_amd64.whl.metadata (19 kB)\n",
      "Collecting numpy>=1.23.2 (from pandas)\n",
      "  Downloading numpy-2.2.5-cp311-cp311-win_amd64.whl.metadata (60 kB)\n",
      "Requirement already satisfied: python-dateutil>=2.8.2 in d:\\gcet\\semester 5\\python\\python_basics\\semester_5\\.venv\\lib\\site-packages (from pandas) (2.9.0.post0)\n",
      "Collecting pytz>=2020.1 (from pandas)\n",
      "  Downloading pytz-2025.2-py2.py3-none-any.whl.metadata (22 kB)\n",
      "Collecting tzdata>=2022.7 (from pandas)\n",
      "  Downloading tzdata-2025.2-py2.py3-none-any.whl.metadata (1.4 kB)\n",
      "Requirement already satisfied: six>=1.5 in d:\\gcet\\semester 5\\python\\python_basics\\semester_5\\.venv\\lib\\site-packages (from python-dateutil>=2.8.2->pandas) (1.17.0)\n",
      "Using cached pandas-2.2.3-cp311-cp311-win_amd64.whl (11.6 MB)\n",
      "Downloading numpy-2.2.5-cp311-cp311-win_amd64.whl (12.9 MB)\n",
      "   ---------------------------------------- 0.0/12.9 MB ? eta -:--:--\n",
      "    --------------------------------------- 0.3/12.9 MB ? eta -:--:--\n",
      "   -- ------------------------------------- 0.8/12.9 MB 2.4 MB/s eta 0:00:06\n",
      "   ---- ----------------------------------- 1.3/12.9 MB 2.5 MB/s eta 0:00:05\n",
      "   ------ --------------------------------- 2.1/12.9 MB 2.8 MB/s eta 0:00:04\n",
      "   -------- ------------------------------- 2.9/12.9 MB 2.9 MB/s eta 0:00:04\n",
      "   ----------- ---------------------------- 3.7/12.9 MB 3.0 MB/s eta 0:00:04\n",
      "   ------------- -------------------------- 4.5/12.9 MB 3.1 MB/s eta 0:00:03\n",
      "   ---------------- ----------------------- 5.2/12.9 MB 3.2 MB/s eta 0:00:03\n",
      "   ----------------- ---------------------- 5.8/12.9 MB 3.2 MB/s eta 0:00:03\n",
      "   -------------------- ------------------- 6.6/12.9 MB 3.2 MB/s eta 0:00:03\n",
      "   ---------------------- ----------------- 7.3/12.9 MB 3.2 MB/s eta 0:00:02\n",
      "   ------------------------- -------------- 8.1/12.9 MB 3.3 MB/s eta 0:00:02\n",
      "   --------------------------- ------------ 8.9/12.9 MB 3.3 MB/s eta 0:00:02\n",
      "   ----------------------------- ---------- 9.7/12.9 MB 3.3 MB/s eta 0:00:01\n",
      "   ------------------------------- -------- 10.2/12.9 MB 3.3 MB/s eta 0:00:01\n",
      "   ---------------------------------- ----- 11.0/12.9 MB 3.4 MB/s eta 0:00:01\n",
      "   ------------------------------------ --- 11.8/12.9 MB 3.4 MB/s eta 0:00:01\n",
      "   -------------------------------------- - 12.6/12.9 MB 3.4 MB/s eta 0:00:01\n",
      "   ---------------------------------------- 12.9/12.9 MB 3.3 MB/s eta 0:00:00\n",
      "Downloading pytz-2025.2-py2.py3-none-any.whl (509 kB)\n",
      "Downloading tzdata-2025.2-py2.py3-none-any.whl (347 kB)\n",
      "Installing collected packages: pytz, tzdata, numpy, pandas\n",
      "Successfully installed numpy-2.2.5 pandas-2.2.3 pytz-2025.2 tzdata-2025.2\n",
      "Note: you may need to restart the kernel to use updated packages.\n"
     ]
    },
    {
     "name": "stderr",
     "output_type": "stream",
     "text": [
      "\n",
      "[notice] A new release of pip is available: 25.0.1 -> 25.1\n",
      "[notice] To update, run: python.exe -m pip install --upgrade pip\n"
     ]
    }
   ],
   "source": [
    "pip install pandas\n"
   ]
  },
  {
   "cell_type": "code",
   "execution_count": 7,
   "id": "ed689eab",
   "metadata": {},
   "outputs": [
    {
     "name": "stdout",
     "output_type": "stream",
     "text": [
      "Collecting openpyxl\n",
      "  Downloading openpyxl-3.1.5-py2.py3-none-any.whl.metadata (2.5 kB)\n",
      "Collecting et-xmlfile (from openpyxl)\n",
      "  Downloading et_xmlfile-2.0.0-py3-none-any.whl.metadata (2.7 kB)\n",
      "Downloading openpyxl-3.1.5-py2.py3-none-any.whl (250 kB)\n",
      "Downloading et_xmlfile-2.0.0-py3-none-any.whl (18 kB)\n",
      "Installing collected packages: et-xmlfile, openpyxl\n",
      "Successfully installed et-xmlfile-2.0.0 openpyxl-3.1.5\n",
      "Note: you may need to restart the kernel to use updated packages.\n"
     ]
    },
    {
     "name": "stderr",
     "output_type": "stream",
     "text": [
      "\n",
      "[notice] A new release of pip is available: 25.0.1 -> 25.1\n",
      "[notice] To update, run: python.exe -m pip install --upgrade pip\n"
     ]
    }
   ],
   "source": [
    "pip install openpyxl\n"
   ]
  },
  {
   "cell_type": "code",
   "execution_count": 8,
   "id": "b83cee36",
   "metadata": {},
   "outputs": [
    {
     "name": "stdout",
     "output_type": "stream",
     "text": [
      "Excel file has been created\n"
     ]
    }
   ],
   "source": [
    "import pandas as pd\n",
    "\n",
    "# sample data\n",
    "data = {\n",
    "    'name': ['mushtaq', 'javid'],\n",
    "    'age': [23, 34],\n",
    "    'city': ['gbl', 'gbl']\n",
    "}\n",
    "\n",
    "# create pandas dataframe\n",
    "df = pd.DataFrame(data)\n",
    "\n",
    "# define file path\n",
    "file_path = r'D:\\GCET\\Semester 5\\PYTHON\\example2.xlsx'  # note the 'r' before string for Windows paths\n",
    "\n",
    "# write dataframe to excel\n",
    "df.to_excel(file_path, index=False)\n",
    "\n",
    "print(\"Excel file has been created\")\n"
   ]
  },
  {
   "cell_type": "markdown",
   "id": "a398c35d",
   "metadata": {},
   "source": [
    "# To display this excel data"
   ]
  },
  {
   "cell_type": "code",
   "execution_count": 14,
   "id": "b0328d95",
   "metadata": {},
   "outputs": [
    {
     "name": "stdout",
     "output_type": "stream",
     "text": [
      "      name  age       city\n",
      "0  mushtaq   23        gbl\n",
      "1    javid   34   safapora\n",
      "2     Ejaz   28  karanagar\n"
     ]
    }
   ],
   "source": [
    "import pandas as pd\n",
    "\n",
    "# File name of the Excel file\n",
    "file_name = 'D:\\GCET\\Semester 5\\PYTHON\\example2.xlsx'\n",
    "\n",
    "# Read the Excel file\n",
    "#df = pd.read_excel(D:\\GCET\\Semester 5\\PYTHON\\example2.xlsx)\n",
    "df = pd.read_excel('D:/GCET/Semester 5/PYTHON/example2.xlsx')\n",
    "\n",
    "# Display the data\n",
    "print(df)"
   ]
  },
  {
   "cell_type": "markdown",
   "id": "e8e627c3",
   "metadata": {},
   "source": [
    "# To update the data in excel"
   ]
  },
  {
   "cell_type": "markdown",
   "id": "02f59ffc",
   "metadata": {},
   "source": []
  },
  {
   "cell_type": "code",
   "execution_count": 13,
   "id": "b2b14282",
   "metadata": {},
   "outputs": [
    {
     "name": "stdout",
     "output_type": "stream",
     "text": [
      "Excel file updated successfully!\n"
     ]
    }
   ],
   "source": [
    "import pandas as pd\n",
    "\n",
    "# Load the existing Excel file\n",
    "file_name = 'D:/GCET/Semester 5/PYTHON/example2.xlsx'\n",
    "df = pd.read_excel('D:/GCET/Semester 5/PYTHON/example2.xlsx')\n",
    "\n",
    "# Example: Update Javid's city\n",
    "df.loc[df['name'] == 'javid', 'city'] = 'safapora'\n",
    "\n",
    "# Example: Add a new row\n",
    "new_data = {'name': 'Ejaz', 'age': 28, 'city': 'karanagar'}\n",
    "new_row = pd.DataFrame([new_data])\n",
    "df = pd.concat([df, new_row], ignore_index=True)\n",
    "\n",
    "# Save the updated DataFrame back to the same Excel file\n",
    "df.to_excel('D:/GCET/Semester 5/PYTHON/example2.xlsx',index=False)\n",
    "\n",
    "print(\"Excel file updated successfully!\")"
   ]
  },
  {
   "cell_type": "markdown",
   "id": "b94a425d",
   "metadata": {},
   "source": [
    "# Add new columns"
   ]
  },
  {
   "cell_type": "markdown",
   "id": "357db9cc",
   "metadata": {},
   "source": []
  },
  {
   "cell_type": "code",
   "execution_count": 15,
   "id": "d143563c",
   "metadata": {},
   "outputs": [
    {
     "name": "stdout",
     "output_type": "stream",
     "text": [
      "New column added successfully!\n"
     ]
    }
   ],
   "source": [
    "import pandas as pd\n",
    "\n",
    "# Load the existing Excel file\n",
    "file_name = 'D:/GCET/Semester 5/PYTHON/example2.xlsx'\n",
    "df = pd.read_excel(file_name)\n",
    "\n",
    "# Add a new column\n",
    "# Example: Adding a column \"Country\" with a default value\n",
    "df['Country'] = 'India'\n",
    "\n",
    "# Save the updated DataFrame back to the same Excel file\n",
    "df.to_excel(file_name, index=False)\n",
    "\n",
    "print(\"New column added successfully!\")"
   ]
  },
  {
   "cell_type": "code",
   "execution_count": 19,
   "id": "15113b0f",
   "metadata": {},
   "outputs": [
    {
     "name": "stdout",
     "output_type": "stream",
     "text": [
      "      name  age       city Country\n",
      "0  mushtaq   46        gbl   India\n",
      "1    javid   68   safapora   India\n",
      "2     Ejaz   56  karanagar   India\n"
     ]
    }
   ],
   "source": [
    "print(df)"
   ]
  },
  {
   "cell_type": "code",
   "execution_count": 18,
   "id": "4f98c413",
   "metadata": {},
   "outputs": [],
   "source": [
    "df['age'] = df['age'] * 2"
   ]
  },
  {
   "cell_type": "code",
   "execution_count": null,
   "id": "c36cf9ac",
   "metadata": {},
   "outputs": [],
   "source": []
  }
 ],
 "metadata": {
  "kernelspec": {
   "display_name": ".venv",
   "language": "python",
   "name": "python3"
  },
  "language_info": {
   "codemirror_mode": {
    "name": "ipython",
    "version": 3
   },
   "file_extension": ".py",
   "mimetype": "text/x-python",
   "name": "python",
   "nbconvert_exporter": "python",
   "pygments_lexer": "ipython3",
   "version": "3.11.9"
  }
 },
 "nbformat": 4,
 "nbformat_minor": 5
}
