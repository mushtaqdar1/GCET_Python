{
 "cells": [
  {
   "cell_type": "code",
   "execution_count": 15,
   "id": "de09ec4a",
   "metadata": {},
   "outputs": [
    {
     "name": "stdout",
     "output_type": "stream",
     "text": [
      "original array [1 2 3 4 5]\n",
      "sum of elements 15\n",
      "mean of elemnets 3.0\n",
      " array after doubling  [ 2  4  6  8 10]\n"
     ]
    }
   ],
   "source": [
    "import numpy as np\n",
    "arr =np.array([1,2,3,4,5])\n",
    "total=np.sum(arr)\n",
    "average=np.mean(arr)\n",
    "doubled =arr*2\n",
    "print(\"original array\",arr)\n",
    "print(\"sum of elements\",total)\n",
    "print(\"mean of elemnets\",average)\n",
    "print(\" array after doubling \",doubled)\n"
   ]
  },
  {
   "cell_type": "code",
   "execution_count": 16,
   "id": "d4db7ca8",
   "metadata": {},
   "outputs": [
    {
     "name": "stdout",
     "output_type": "stream",
     "text": [
      "Total Sales in the week: 21500\n",
      "Average daily sales: 3071.4285714285716\n",
      "Highest sales day: Day 5\n",
      "Lowest sales day: Day 3\n"
     ]
    }
   ],
   "source": [
    " # Import numpy as np\n",
    "import numpy as np\n",
    "\n",
    "# sales data for 7 days (in dollars)\n",
    "sales = np.array([2500, 3000, 1500, 4000, 5000, 3500, 2000])\n",
    "\n",
    "# find total sales\n",
    "total_sales = np.sum(sales)\n",
    "\n",
    "# average sales\n",
    "avg_sales = np.mean(sales)\n",
    "\n",
    "# day with max sales\n",
    "max_sales = np.max(sales)\n",
    "day_max_sales = np.argmax(sales)  # returns the index (day number)\n",
    "\n",
    "# day with min sales\n",
    "min_sales = np.min(sales)\n",
    "day_min_sales = np.argmin(sales)\n",
    "\n",
    "# Print results\n",
    "print(\"Total Sales in the week:\", total_sales)\n",
    "print(\"Average daily sales:\", avg_sales)\n",
    "print(\"Highest sales day: Day\", day_max_sales + 1)\n",
    "print(\"Lowest sales day: Day\", day_min_sales + 1)"
   ]
  },
  {
   "cell_type": "code",
   "execution_count": 23,
   "id": "0fcd7cdf",
   "metadata": {},
   "outputs": [
    {
     "name": "stdout",
     "output_type": "stream",
     "text": [
      "1\n",
      "2\n",
      "3\n",
      "4\n",
      "using step looping 1\n",
      "using step looping 3\n",
      "using step looping 5\n",
      "using step looping 7\n",
      "using step looping 9\n",
      "numbers in descending order 5\n",
      "numbers in descending order 4\n",
      "numbers in descending order 3\n",
      "numbers in descending order 2\n",
      "numbers in descending order 1\n",
      "Ali\n",
      "Sara\n",
      "Zara\n"
     ]
    }
   ],
   "source": [
    "#for  loop\n",
    "# Print numbers from 1 to 4\n",
    "for i in range(1, 5):\n",
    "    print(i)\n",
    "    # Print numbers from 1 to 10 with step 2\n",
    "for i in range(1, 11, 2):\n",
    "    print(\"using step looping\",i)\n",
    "    # Print numbers from 5 to 1\n",
    "for i in range(5, 0, -1):\n",
    "    print( \"numbers in descending order\",i)\n",
    "    # Print each name in a list\n",
    "names = [\"Ali\", \"Sara\", \"Zara\"]\n",
    "for name in names:\n",
    "    print(name)"
   ]
  },
  {
   "cell_type": "code",
   "execution_count": 25,
   "id": "32ba066d",
   "metadata": {},
   "outputs": [
    {
     "name": "stdout",
     "output_type": "stream",
     "text": [
      "1\n",
      "2\n",
      "3\n",
      "4\n",
      "5\n",
      "5\n",
      "4\n",
      "3\n",
      "2\n",
      "1\n"
     ]
    }
   ],
   "source": [
    "#using while loop\n",
    "# Print numbers 1 to 5 using while loop\n",
    "i = 1\n",
    "while i <= 5:\n",
    "    print(i)\n",
    "    i += 1\n",
    "# Print numbers 5 to 1 using while loop\n",
    "i = 5\n",
    "while i >= 1:\n",
    "    print(i)\n",
    "    i -= 1"
   ]
  },
  {
   "cell_type": "code",
   "execution_count": null,
   "id": "39919963",
   "metadata": {},
   "outputs": [],
   "source": []
  }
 ],
 "metadata": {
  "kernelspec": {
   "display_name": "Python 3",
   "language": "python",
   "name": "python3"
  },
  "language_info": {
   "codemirror_mode": {
    "name": "ipython",
    "version": 3
   },
   "file_extension": ".py",
   "mimetype": "text/x-python",
   "name": "python",
   "nbconvert_exporter": "python",
   "pygments_lexer": "ipython3",
   "version": "3.13.2"
  }
 },
 "nbformat": 4,
 "nbformat_minor": 5
}
