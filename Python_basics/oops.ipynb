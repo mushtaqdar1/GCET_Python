{
 "cells": [
  {
   "cell_type": "markdown",
   "id": "cd961543",
   "metadata": {},
   "source": [
    "# Concept of OOPs in Python: Lecture_No_26(May,2025)"
   ]
  },
  {
   "cell_type": "code",
   "execution_count": null,
   "id": "0298c5f6",
   "metadata": {},
   "outputs": [],
   "source": []
  },
  {
   "cell_type": "markdown",
   "id": "2c376b1d",
   "metadata": {},
   "source": [
    "### Object-Oriented Programming (OOP) in Python - Jupyter Notebook\n",
    "\n",
    "### 1. Import necessary modules from abc import ABC, abstractmethod\n",
    "\n",
    "\n"
   ]
  },
  {
   "cell_type": "code",
   "execution_count": 3,
   "id": "16d9d80c",
   "metadata": {},
   "outputs": [
    {
     "name": "stdout",
     "output_type": "stream",
     "text": [
      "Tesla Model S\n",
      "BMW Model S\n",
      "Toyota Model S\n",
      "Hyundia Model S\n"
     ]
    }
   ],
   "source": [
    "# Class & Objects Example\n",
    "class Car:\n",
    "    def __init__(self, brand, model):\n",
    "        self.brand = brand\n",
    "        self.model = model\n",
    "\n",
    "    def display_info(self):\n",
    "        return f\"{self.brand} {self.model}\"\n",
    "\n",
    "my_car = Car(\"Tesla\", \"Model S\")\n",
    "print(my_car.display_info())\n",
    "my_car = Car(\"BMW\", \"Model S\")\n",
    "print(my_car.display_info())\n",
    "my_car = Car(\"Toyota\", \"Model S\")\n",
    "print(my_car.display_info())\n",
    "my_car = Car(\"Hyundia\", \"Model S\")\n",
    "print(my_car.display_info())\n"
   ]
  },
  {
   "cell_type": "code",
   "execution_count": null,
   "id": "fc42ce09",
   "metadata": {},
   "outputs": [],
   "source": []
  },
  {
   "cell_type": "code",
   "execution_count": 4,
   "id": "818c1cee",
   "metadata": {},
   "outputs": [
    {
     "name": "stdout",
     "output_type": "stream",
     "text": [
      "1000\n"
     ]
    }
   ],
   "source": [
    "# Encapsulation Example\n",
    "class BankAccount:\n",
    "    def __init__(self, balance):\n",
    "        self.__balance = balance  # Private attribute\n",
    "\n",
    "    def get_balance(self):\n",
    "        return self.__balance\n",
    "\n",
    "account = BankAccount(1000)\n",
    "print(account.get_balance())\n",
    "\n"
   ]
  },
  {
   "cell_type": "code",
   "execution_count": 5,
   "id": "0b76b697",
   "metadata": {},
   "outputs": [
    {
     "name": "stdout",
     "output_type": "stream",
     "text": [
      "Bark!\n"
     ]
    }
   ],
   "source": [
    "# Inheritance Example\n",
    "class Animal:\n",
    "    def speak(self):\n",
    "        return \"I make a sound\"\n",
    "\n",
    "class Dog(Animal):\n",
    "    def speak(self):\n",
    "        return \"Bark!\"\n",
    "\n",
    "my_dog = Dog()\n",
    "print(my_dog.speak())\n",
    "\n"
   ]
  },
  {
   "cell_type": "code",
   "execution_count": 2,
   "id": "065c0051",
   "metadata": {},
   "outputs": [
    {
     "name": "stdout",
     "output_type": "stream",
     "text": [
      "I fly\n",
      "I swim\n"
     ]
    }
   ],
   "source": [
    "# Polymorphism Example\n",
    "class Bird:\n",
    "    def move(self):\n",
    "        return \"I fly\"\n",
    "\n",
    "class Fish:\n",
    "    def move(self):\n",
    "        return \"I swim\"\n",
    "\n",
    "def describe_movement(animal):\n",
    "    print(animal.move())\n",
    "\n",
    "describe_movement(Bird())\n",
    "describe_movement(Fish())\n",
    "\n"
   ]
  },
  {
   "cell_type": "code",
   "execution_count": 6,
   "id": "4cd082ed",
   "metadata": {},
   "outputs": [
    {
     "name": "stdout",
     "output_type": "stream",
     "text": [
      "78.5\n"
     ]
    }
   ],
   "source": [
    "# Abstraction Example\n",
    "from abc import ABC, abstractmethod\n",
    "\n",
    "class Shape(ABC):\n",
    "    \n",
    "    @abstractmethod\n",
    "    def area(self):\n",
    "        pass\n",
    "\n",
    "class Circle(Shape):\n",
    "    def __init__(self, radius):\n",
    "        self.radius = radius\n",
    "\n",
    "    def area(self):\n",
    "        return 3.14 * self.radius ** 2\n",
    "\n",
    "my_circle = Circle(5)\n",
    "print(my_circle.area())"
   ]
  },
  {
   "cell_type": "markdown",
   "id": "cb87882e",
   "metadata": {},
   "source": [
    "### - def __init__(self, name, age):\n",
    "- def declares a function.\n",
    "- __init__ is a special method that runs when an object is initialized.\n",
    "- self refers to the specific instance of the class being created.\n",
    "- name and age are parameters provided when creating an object.\n",
    "How It Works in a Class:\n"
   ]
  },
  {
   "cell_type": "markdown",
   "id": "07305f46",
   "metadata": {},
   "source": []
  },
  {
   "cell_type": "code",
   "execution_count": null,
   "id": "11201b00",
   "metadata": {},
   "outputs": [
    {
     "name": "stdout",
     "output_type": "stream",
     "text": [
      "Hello, my name is Mushtaq and I am 35 years old.\n"
     ]
    }
   ],
   "source": [
    "class Person:\n",
    "    def __init__(self, name, age):  # Constructor method\n",
    "        self.name = name  # Assigning value to instance variable\n",
    "        self.age = age\n",
    "\n",
    "    def introduce(self):\n",
    "        return f\"Hello, my name is {self.name} and I am {self.age} years old.\"\n",
    "\n",
    "# Creating an instance of the class\n",
    "person1 = Person(\"Mushtaq\", 35)\n",
    "print(person1.introduce())  # Output: Hello, my name is Mushtaq and I am 35 years old.  "
   ]
  }
 ],
 "metadata": {
  "kernelspec": {
   "display_name": "Python 3",
   "language": "python",
   "name": "python3"
  },
  "language_info": {
   "codemirror_mode": {
    "name": "ipython",
    "version": 3
   },
   "file_extension": ".py",
   "mimetype": "text/x-python",
   "name": "python",
   "nbconvert_exporter": "python",
   "pygments_lexer": "ipython3",
   "version": "3.13.3"
  }
 },
 "nbformat": 4,
 "nbformat_minor": 5
}
