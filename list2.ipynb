{
 "cells": [
  {
   "cell_type": "code",
   "execution_count": 1,
   "id": "6162c9f6",
   "metadata": {},
   "outputs": [
    {
     "name": "stdout",
     "output_type": "stream",
     "text": [
      "<class 'list'>\n",
      "the value at index 0:\n",
      " 1\n",
      "the value at index -1:\n",
      " 25\n",
      "the value squares[-3:]=:\n",
      " [9, 16, 25]\n",
      "the value squares[:]=:\n",
      " [1, 4, 9, 16, 25]\n",
      "the value squares + [36, 49, 64, 81, 100]:\n",
      " [1, 4, 9, 16, 25, 36, 49, 64, 81, 100]\n",
      "the values of x:\n",
      " [['a', 'b', 'c'], [1, 2, 3]]\n"
     ]
    }
   ],
   "source": [
    "squares = [1, 4, 9, 16, 25]\n",
    "print(type(squares))\n",
    "print(\"the value at index 0:\\n\",squares[0])\n",
    "print(\"the value at index -1:\\n\",squares[-1])\n",
    "# slicing returns a new list\n",
    "print(\"the value squares[-3:]=:\\n\",squares[-3:])\n",
    "print(\"the value squares[:]=:\\n\",squares[:])\n",
    "print(\"the value squares + [36, 49, 64, 81, 100]:\\n\",squares + [36, 49, 64, 81, 100])\n",
    "a = ['a', 'b', 'c']\n",
    "n = [1, 2, 3]\n",
    "x = [a, n]\n",
    "print(\"the values of x:\\n\",x)"
   ]
  },
  {
   "cell_type": "code",
   "execution_count": 3,
   "id": "47d19f5d",
   "metadata": {},
   "outputs": [
    {
     "ename": "SyntaxError",
     "evalue": "unexpected EOF while parsing (Temp/ipykernel_13044/2702212560.py, line 1)",
     "output_type": "error",
     "traceback": [
      "\u001b[1;36m  File \u001b[1;32m\"C:\\Users\\ERMUSH~1\\AppData\\Local\\Temp/ipykernel_13044/2702212560.py\"\u001b[1;36m, line \u001b[1;32m1\u001b[0m\n\u001b[1;33m    print(len(squares())\u001b[0m\n\u001b[1;37m                        ^\u001b[0m\n\u001b[1;31mSyntaxError\u001b[0m\u001b[1;31m:\u001b[0m unexpected EOF while parsing\n"
     ]
    }
   ],
   "source": [
    "print(len(squares())"
   ]
  },
  {
   "cell_type": "code",
   "execution_count": 6,
   "id": "6da08e25",
   "metadata": {},
   "outputs": [
    {
     "name": "stdout",
     "output_type": "stream",
     "text": [
      "<class 'list'>\n"
     ]
    }
   ],
   "source": [
    "print(type(list_2))"
   ]
  },
  {
   "cell_type": "code",
   "execution_count": 4,
   "id": "def80191",
   "metadata": {},
   "outputs": [
    {
     "ename": "NameError",
     "evalue": "name 'squares' is not defined",
     "output_type": "error",
     "traceback": [
      "\u001b[1;31m---------------------------------------------------------------------------\u001b[0m",
      "\u001b[1;31mNameError\u001b[0m                                 Traceback (most recent call last)",
      "\u001b[1;32mC:\\Users\\ERMUSH~1\\AppData\\Local\\Temp/ipykernel_13044/2493887371.py\u001b[0m in \u001b[0;36m<module>\u001b[1;34m\u001b[0m\n\u001b[1;32m----> 1\u001b[1;33m \u001b[0mprint\u001b[0m\u001b[1;33m(\u001b[0m\u001b[0mtype\u001b[0m\u001b[1;33m(\u001b[0m\u001b[0msquares\u001b[0m\u001b[1;33m)\u001b[0m\u001b[1;33m)\u001b[0m\u001b[1;33m\u001b[0m\u001b[1;33m\u001b[0m\u001b[0m\n\u001b[0m",
      "\u001b[1;31mNameError\u001b[0m: name 'squares' is not defined"
     ]
    }
   ],
   "source": [
    "print(type(squares))"
   ]
  },
  {
   "cell_type": "code",
   "execution_count": 19,
   "id": "ef434521",
   "metadata": {},
   "outputs": [],
   "source": [
    "list_1=[100,'abc',300,788]"
   ]
  },
  {
   "cell_type": "code",
   "execution_count": 25,
   "id": "32e6d6e5",
   "metadata": {},
   "outputs": [
    {
     "name": "stdout",
     "output_type": "stream",
     "text": [
      "the elements of list 2 is:\n",
      " None\n"
     ]
    }
   ],
   "source": [
    "print(\"the elements of list 2 is:\\n\",list_1.reverse())"
   ]
  },
  {
   "cell_type": "code",
   "execution_count": 28,
   "id": "50c13a4e",
   "metadata": {},
   "outputs": [
    {
     "name": "stdout",
     "output_type": "stream",
     "text": [
      "[100, 'abc', 300, 788, 1, 'abc', 'hi', 600]\n"
     ]
    }
   ],
   "source": [
    "print(list_1)"
   ]
  },
  {
   "cell_type": "code",
   "execution_count": 27,
   "id": "3e07af79",
   "metadata": {},
   "outputs": [],
   "source": [
    "list_1.reverse()"
   ]
  },
  {
   "cell_type": "code",
   "execution_count": 29,
   "id": "169d1323",
   "metadata": {},
   "outputs": [
    {
     "name": "stdout",
     "output_type": "stream",
     "text": [
      "the elements of list is:\n",
      " [100, 'abc', 300, 788, 1, 'abc', 'hi', 600]\n"
     ]
    }
   ],
   "source": [
    "print(\"the elements of list is:\\n\",list_1)"
   ]
  },
  {
   "cell_type": "code",
   "execution_count": 30,
   "id": "9d77e290",
   "metadata": {},
   "outputs": [
    {
     "data": {
      "text/plain": [
       "600"
      ]
     },
     "execution_count": 30,
     "metadata": {},
     "output_type": "execute_result"
    }
   ],
   "source": [
    "list_1.pop(-1)"
   ]
  },
  {
   "cell_type": "code",
   "execution_count": 21,
   "id": "068d3e73",
   "metadata": {},
   "outputs": [],
   "source": [
    "list_1.extend(list_2)"
   ]
  },
  {
   "cell_type": "code",
   "execution_count": 22,
   "id": "07333364",
   "metadata": {},
   "outputs": [
    {
     "name": "stdout",
     "output_type": "stream",
     "text": [
      "The elements of list1:\n",
      " [100, 'abc', 300, 788, 1, 'abc', 'hi', 600]\n"
     ]
    }
   ],
   "source": [
    "print(\"The elements of list1:\\n\",list_1)"
   ]
  },
  {
   "cell_type": "code",
   "execution_count": 39,
   "id": "a7978216",
   "metadata": {},
   "outputs": [
    {
     "name": "stdout",
     "output_type": "stream",
     "text": [
      "4\n"
     ]
    }
   ],
   "source": [
    "print(len(list_2))"
   ]
  },
  {
   "cell_type": "code",
   "execution_count": 17,
   "id": "9a8c9256",
   "metadata": {},
   "outputs": [],
   "source": [
    "list_2.append(600)"
   ]
  },
  {
   "cell_type": "code",
   "execution_count": 37,
   "id": "decc96be",
   "metadata": {},
   "outputs": [],
   "source": [
    "list_1=list_2.copy()"
   ]
  },
  {
   "cell_type": "code",
   "execution_count": 41,
   "id": "7870dd83",
   "metadata": {},
   "outputs": [
    {
     "name": "stdout",
     "output_type": "stream",
     "text": [
      "['hi', 'abc', 1]\n"
     ]
    }
   ],
   "source": [
    "print(list_1)"
   ]
  },
  {
   "cell_type": "code",
   "execution_count": 33,
   "id": "2330c9a7",
   "metadata": {},
   "outputs": [],
   "source": [
    "list_1.clear()"
   ]
  },
  {
   "cell_type": "code",
   "execution_count": 40,
   "id": "87d42a3e",
   "metadata": {},
   "outputs": [],
   "source": [
    "list_1.remove(list_1[0])"
   ]
  }
 ],
 "metadata": {
  "kernelspec": {
   "display_name": "Python 3 (ipykernel)",
   "language": "python",
   "name": "python3"
  },
  "language_info": {
   "codemirror_mode": {
    "name": "ipython",
    "version": 3
   },
   "file_extension": ".py",
   "mimetype": "text/x-python",
   "name": "python",
   "nbconvert_exporter": "python",
   "pygments_lexer": "ipython3",
   "version": "3.9.7"
  }
 },
 "nbformat": 4,
 "nbformat_minor": 5
}
