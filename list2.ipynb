{
 "cells": [
  {
   "cell_type": "code",
   "execution_count": 1,
   "id": "6162c9f6",
   "metadata": {},
   "outputs": [
    {
     "name": "stdout",
     "output_type": "stream",
     "text": [
      "<class 'list'>\n",
      "the value at index 0:\n",
      " 1\n",
      "the value at index -1:\n",
      " 25\n",
      "the value squares[-3:]=:\n",
      " [9, 16, 25]\n",
      "the value squares[:]=:\n",
      " [1, 4, 9, 16, 25]\n",
      "the value squares + [36, 49, 64, 81, 100]:\n",
      " [1, 4, 9, 16, 25, 36, 49, 64, 81, 100]\n",
      "the values of x:\n",
      " [['a', 'b', 'c'], [1, 2, 3]]\n"
     ]
    }
   ],
   "source": [
    "squares = [1, 4, 9, 16, 25]\n",
    "print(type(squares))\n",
    "print(\"the value at index 0:\\n\",squares[0])\n",
    "print(\"the value at index -1:\\n\",squares[-1])\n",
    "# slicing returns a new list\n",
    "print(\"the value squares[-3:]=:\\n\",squares[-3:])\n",
    "print(\"the value squares[:]=:\\n\",squares[:])\n",
    "print(\"the value squares + [36, 49, 64, 81, 100]:\\n\",squares + [36, 49, 64, 81, 100])\n",
    "a = ['a', 'b', 'c']\n",
    "n = [1, 2, 3]\n",
    "x = [a, n]\n",
    "print(\"the values of x:\\n\",x)"
   ]
  },
  {
   "cell_type": "code",
   "execution_count": 6,
   "id": "7d7c0c80",
   "metadata": {},
   "outputs": [
    {
     "ename": "NameError",
     "evalue": "name 'squares' is not defined",
     "output_type": "error",
     "traceback": [
      "\u001b[1;31m---------------------------------------------------------------------------\u001b[0m",
      "\u001b[1;31mNameError\u001b[0m                                 Traceback (most recent call last)",
      "Cell \u001b[1;32mIn[6], line 1\u001b[0m\n\u001b[1;32m----> 1\u001b[0m \u001b[38;5;28mprint\u001b[39m(\u001b[38;5;28mtype\u001b[39m(\u001b[43msquares\u001b[49m))\n",
      "\u001b[1;31mNameError\u001b[0m: name 'squares' is not defined"
     ]
    }
   ],
   "source": [
    "print(type(squares))"
   ]
  },
  {
   "cell_type": "code",
   "execution_count": 5,
   "id": "ef9a3e12",
   "metadata": {},
   "outputs": [
    {
     "ename": "NameError",
     "evalue": "name 'squares' is not defined",
     "output_type": "error",
     "traceback": [
      "\u001b[1;31m---------------------------------------------------------------------------\u001b[0m",
      "\u001b[1;31mNameError\u001b[0m                                 Traceback (most recent call last)",
      "Cell \u001b[1;32mIn[5], line 1\u001b[0m\n\u001b[1;32m----> 1\u001b[0m \u001b[38;5;28mprint\u001b[39m(\u001b[38;5;28mtype\u001b[39m(\u001b[43msquares\u001b[49m))\n",
      "\u001b[1;31mNameError\u001b[0m: name 'squares' is not defined"
     ]
    }
   ],
   "source": [
    "print(type(squares))"
   ]
  },
  {
   "cell_type": "code",
   "execution_count": 1,
   "id": "4172a9a1",
   "metadata": {},
   "outputs": [
    {
     "name": "stdout",
     "output_type": "stream",
     "text": [
      "12\n",
      "15.6\n",
      "5.0 7.0\n"
     ]
    }
   ],
   "source": [
    "A = 12  \n",
    "B = float(15.6) \n",
    "C = 5 + 7j \n",
    "print(A) \n",
    "print(B) \n",
    "print(C.real, C.imag)"
   ]
  }
 ],
 "metadata": {
  "kernelspec": {
   "display_name": "Python 3",
   "language": "python",
   "name": "python3"
  },
  "language_info": {
   "codemirror_mode": {
    "name": "ipython",
    "version": 3
   },
   "file_extension": ".py",
   "mimetype": "text/x-python",
   "name": "python",
   "nbconvert_exporter": "python",
   "pygments_lexer": "ipython3",
   "version": "3.11.9"
  }
 },
 "nbformat": 4,
 "nbformat_minor": 5
}
