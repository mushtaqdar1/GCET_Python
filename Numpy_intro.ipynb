{
  "cells": [
    {
      "cell_type": "code",
      "execution_count": 1,
      "metadata": {
        "id": "7xlAM3xCjSbF"
      },
      "outputs": [
        {
          "name": "stdout",
          "output_type": "stream",
          "text": [
            "Numpy\n"
          ]
        }
      ],
      "source": [
        "print(\"Numpy\")"
      ]
    },
    {
      "cell_type": "markdown",
      "metadata": {
        "id": "1-Wpq_fIjfip"
      },
      "source": [
        "## Introduction to Numpy"
      ]
    },
    {
      "cell_type": "markdown",
      "metadata": {
        "id": "y-TfEZ2tn69N"
      },
      "source": [
        "**numpy.empty**\n",
        "numpy.empty(shape, dtype=float, order='C', *, device=None, like=None)\n",
        "Return a new array of given shape and type, without initializing entries.\n",
        "\n",
        "**Parameters:**\n",
        "shapeint or tuple of int\n",
        "Shape of the empty array, e.g., (2, 3) or 2.\n",
        "\n",
        "dtypedata-type, optional\n",
        "Desired output data-type for the array, e.g, numpy.int8. Default is numpy.float64.\n",
        "\n",
        "order{‘C’, ‘F’}, optional, default: ‘C’\n",
        "Whether to store multi-dimensional data in row-major (C-style) or column-major (Fortran-style) order in memory.\n",
        "\n",
        "**devicestr, optional**\n",
        "The device on which to place the created array. Default: None. For Array-API interoperability only, so must be \"cpu\" if passed.\n",
        "\n",
        "**New in version 2.0.0.**\n",
        "\n",
        "**likearray_like, optional**\n",
        "Reference object to allow the creation of arrays which are not NumPy arrays. If an array-like passed in as like supports the __array_function__ protocol, the result will be defined by it. In this case, it ensures the creation of an array object compatible with that passed in via this argument."
      ]
    },
    {
      "cell_type": "code",
      "execution_count": 1,
      "metadata": {
        "colab": {
          "base_uri": "https://localhost:8080/"
        },
        "id": "a7nPlDqRoPqA",
        "outputId": "043856bf-119b-4176-8254-05e591d18fef"
      },
      "outputs": [
        {
          "ename": "ModuleNotFoundError",
          "evalue": "No module named 'numpy'",
          "output_type": "error",
          "traceback": [
            "\u001b[31m---------------------------------------------------------------------------\u001b[39m",
            "\u001b[31mModuleNotFoundError\u001b[39m                       Traceback (most recent call last)",
            "\u001b[36mCell\u001b[39m\u001b[36m \u001b[39m\u001b[32mIn[1]\u001b[39m\u001b[32m, line 1\u001b[39m\n\u001b[32m----> \u001b[39m\u001b[32m1\u001b[39m \u001b[38;5;28;01mimport\u001b[39;00m\u001b[38;5;250m \u001b[39m\u001b[34;01mnumpy\u001b[39;00m\u001b[38;5;250m \u001b[39m\u001b[38;5;28;01mas\u001b[39;00m\u001b[38;5;250m \u001b[39m\u001b[34;01mnp\u001b[39;00m\n\u001b[32m      2\u001b[39m np.empty([\u001b[32m2\u001b[39m, \u001b[32m2\u001b[39m])\n",
            "\u001b[31mModuleNotFoundError\u001b[39m: No module named 'numpy'"
          ]
        }
      ],
      "source": [
        "import numpy as np\n",
        "np.empty([2, 2])"
      ]
    },
    {
      "cell_type": "code",
      "execution_count": null,
      "metadata": {
        "colab": {
          "base_uri": "https://localhost:8080/"
        },
        "id": "lJ3jrL0tokef",
        "outputId": "6f2bea3f-5912-47c3-c6a7-de14f97d3ed5"
      },
      "outputs": [
        {
          "data": {
            "text/plain": [
              "array([[10, 20],\n",
              "       [30, 40]])"
            ]
          },
          "execution_count": 4,
          "metadata": {},
          "output_type": "execute_result"
        }
      ],
      "source": [
        "np.empty([2, 2], dtype=int)"
      ]
    },
    {
      "cell_type": "markdown",
      "metadata": {
        "id": "7l8ykTqgo4qY"
      },
      "source": [
        "## numpy.eye\n",
        "numpy.eye(N, M=None, k=0, dtype=<class 'float'>, order='C', *, device=None, like=None)[source]\n",
        "Return a 2-D array with ones on the diagonal and zeros elsewhere.\n",
        "\n",
        "Parameters:\n",
        "Nint\n",
        "Number of rows in the output.\n",
        "\n",
        "Mint, optional\n",
        "Number of columns in the output. If None, defaults to N.\n",
        "\n",
        "kint, optional\n",
        "Index of the diagonal: 0 (the default) refers to the main diagonal, a positive value refers to an upper diagonal, and a negative value to a lower diagonal.\n",
        "\n",
        "dtypedata-type, optional\n",
        "Data-type of the returned array.\n",
        "\n",
        "order{‘C’, ‘F’}, optional\n",
        "Whether the output should be stored in row-major (C-style) or column-major (Fortran-style) order in memory.\n",
        "\n",
        "devicestr, optional\n",
        "The device on which to place the created array. Default: None. For Array-API interoperability only, so must be \"cpu\" if passed."
      ]
    },
    {
      "cell_type": "code",
      "execution_count": 1,
      "metadata": {
        "colab": {
          "base_uri": "https://localhost:8080/"
        },
        "id": "ptGGOhCnjaWO",
        "outputId": "a8dd753d-887c-4f7a-bdea-a69288f2104e"
      },
      "outputs": [
        {
          "name": "stdout",
          "output_type": "stream",
          "text": [
            "Numpy Array:\n",
            " [10 20 30 40]\n",
            "Numpy Array with OPeration:\n",
            " [15 25 35 45]\n",
            "Two D Array:\n",
            " [[1 2 3]\n",
            " [4 5 6]]\n",
            "Two D Array shape:\n",
            " (2, 3)*****"
          ]
        }
      ],
      "source": [
        "import numpy as np\n",
        "# Creating a NumPy array\n",
        "arr = np.array([10, 20, 30, 40])\n",
        "print(\"Numpy Array:\\n\",arr)\n"
      ]
    },
    {
      "cell_type": "code",
      "execution_count": 2,
      "metadata": {
        "colab": {
          "base_uri": "https://localhost:8080/"
        },
        "id": "WsxMNwPpnDxy",
        "outputId": "04bf5708-f82c-4900-f3a7-841bc61e4b11"
      },
      "outputs": [
        {
          "name": "stdout",
          "output_type": "stream",
          "text": [
            "Numpy Array with OPeration:\n",
            " [[ 6  7  8]\n",
            " [ 9 10 11]]\n",
            "Two D Array:\n",
            " [[1 2 3]\n",
            " [4 5 6]]\n",
            "Two D Array shape:\n",
            " (2, 3)*****"
          ]
        }
      ],
      "source": [
        "# Performing operations\n",
        "print(\"Numpy Array with OPeration:\\n\",arr + 5)  # Output: [15 25 35 45]\n",
        "#Multi dimensional arrray\n",
        "import numpy as np\n",
        "# Creating a 2D array\n",
        "arr = np.array([[1, 2, 3], [4, 5, 6]])\n",
        "print(\"Two D Array:\\n\",arr)\n",
        "print(\"Two D Array shape:\\n\",arr.shape,end=\"*****\")  # Output: (2, 3)"
      ]
    }
  ],
  "metadata": {
    "colab": {
      "provenance": []
    },
    "kernelspec": {
      "display_name": ".venv",
      "language": "python",
      "name": "python3"
    },
    "language_info": {
      "codemirror_mode": {
        "name": "ipython",
        "version": 3
      },
      "file_extension": ".py",
      "mimetype": "text/x-python",
      "name": "python",
      "nbconvert_exporter": "python",
      "pygments_lexer": "ipython3",
      "version": "3.11.9"
    }
  },
  "nbformat": 4,
  "nbformat_minor": 0
}
